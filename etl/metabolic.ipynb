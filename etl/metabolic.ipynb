{
 "cells": [
  {
   "cell_type": "code",
   "execution_count": 1,
   "metadata": {
    "collapsed": false
   },
   "outputs": [],
   "source": [
    "import pandas as pd\n",
    "import numpy as np\n",
    "import os\n",
    "\n",
    "from ddf_utils.str import to_concept_id\n",
    "from ddf_utils.index import create_index_file"
   ]
  },
  {
   "cell_type": "code",
   "execution_count": 2,
   "metadata": {
    "collapsed": true
   },
   "outputs": [],
   "source": [
    "source = 'source/sbp_bmi_tc_fpg_agestandardized_12911.xls'"
   ]
  },
  {
   "cell_type": "code",
   "execution_count": null,
   "metadata": {
    "collapsed": true
   },
   "outputs": [],
   "source": []
  },
  {
   "cell_type": "code",
   "execution_count": 18,
   "metadata": {
    "collapsed": true
   },
   "outputs": [],
   "source": [
    "import xlrd"
   ]
  },
  {
   "cell_type": "code",
   "execution_count": 20,
   "metadata": {
    "collapsed": false
   },
   "outputs": [
    {
     "name": "stdout",
     "output_type": "stream",
     "text": [
      "['SBP mean (mm Hg)', 'BMI mean (kg per m2)', 'TC mean (mmol per L)', 'FPG mean (mmol per L)', 'Diabetes prevalence']\n"
     ]
    }
   ],
   "source": [
    "xls = xlrd.open_workbook(source, on_demand=True)\n",
    "print(xls.sheet_names())"
   ]
  },
  {
   "cell_type": "code",
   "execution_count": null,
   "metadata": {
    "collapsed": true
   },
   "outputs": [],
   "source": []
  },
  {
   "cell_type": "code",
   "execution_count": 5,
   "metadata": {
    "collapsed": false
   },
   "outputs": [],
   "source": [
    "data = pd.read_excel(source)"
   ]
  },
  {
   "cell_type": "code",
   "execution_count": 6,
   "metadata": {
    "collapsed": false
   },
   "outputs": [
    {
     "data": {
      "text/html": [
       "<div>\n",
       "<table border=\"1\" class=\"dataframe\">\n",
       "  <thead>\n",
       "    <tr style=\"text-align: right;\">\n",
       "      <th></th>\n",
       "      <th>Country</th>\n",
       "      <th>Year</th>\n",
       "      <th>Female</th>\n",
       "      <th>Unnamed: 3</th>\n",
       "      <th>Unnamed: 4</th>\n",
       "      <th>Unnamed: 5</th>\n",
       "      <th>Male</th>\n",
       "      <th>Unnamed: 7</th>\n",
       "      <th>Unnamed: 8</th>\n",
       "      <th>Unnamed: 9</th>\n",
       "    </tr>\n",
       "  </thead>\n",
       "  <tbody>\n",
       "    <tr>\n",
       "      <th>0</th>\n",
       "      <td>NaN</td>\n",
       "      <td>NaN</td>\n",
       "      <td>Age-standardized mean</td>\n",
       "      <td>Posterior standard deviation</td>\n",
       "      <td>Lower 95% uncertainty interval</td>\n",
       "      <td>Upper 95% uncertainty interval</td>\n",
       "      <td>Age-standardized mean</td>\n",
       "      <td>Posterior standard deviation</td>\n",
       "      <td>Lower 95% uncertainty interval</td>\n",
       "      <td>Upper 95% uncertainty interval</td>\n",
       "    </tr>\n",
       "    <tr>\n",
       "      <th>1</th>\n",
       "      <td>Afghanistan</td>\n",
       "      <td>1980.0</td>\n",
       "      <td>122.08</td>\n",
       "      <td>5.75904</td>\n",
       "      <td>110.607</td>\n",
       "      <td>133.52</td>\n",
       "      <td>125.199</td>\n",
       "      <td>5.56107</td>\n",
       "      <td>114.289</td>\n",
       "      <td>136.468</td>\n",
       "    </tr>\n",
       "    <tr>\n",
       "      <th>2</th>\n",
       "      <td>Afghanistan</td>\n",
       "      <td>1981.0</td>\n",
       "      <td>122.268</td>\n",
       "      <td>5.45042</td>\n",
       "      <td>111.393</td>\n",
       "      <td>133.135</td>\n",
       "      <td>125.216</td>\n",
       "      <td>5.17833</td>\n",
       "      <td>115.225</td>\n",
       "      <td>135.713</td>\n",
       "    </tr>\n",
       "    <tr>\n",
       "      <th>3</th>\n",
       "      <td>Afghanistan</td>\n",
       "      <td>1982.0</td>\n",
       "      <td>122.487</td>\n",
       "      <td>5.18192</td>\n",
       "      <td>112.132</td>\n",
       "      <td>132.857</td>\n",
       "      <td>125.249</td>\n",
       "      <td>4.84846</td>\n",
       "      <td>115.819</td>\n",
       "      <td>134.997</td>\n",
       "    </tr>\n",
       "    <tr>\n",
       "      <th>4</th>\n",
       "      <td>Afghanistan</td>\n",
       "      <td>1983.0</td>\n",
       "      <td>122.706</td>\n",
       "      <td>4.95718</td>\n",
       "      <td>112.872</td>\n",
       "      <td>132.638</td>\n",
       "      <td>125.309</td>\n",
       "      <td>4.5781</td>\n",
       "      <td>116.498</td>\n",
       "      <td>134.653</td>\n",
       "    </tr>\n",
       "  </tbody>\n",
       "</table>\n",
       "</div>"
      ],
      "text/plain": [
       "       Country    Year                 Female                    Unnamed: 3  \\\n",
       "0          NaN     NaN  Age-standardized mean  Posterior standard deviation   \n",
       "1  Afghanistan  1980.0                 122.08                       5.75904   \n",
       "2  Afghanistan  1981.0                122.268                       5.45042   \n",
       "3  Afghanistan  1982.0                122.487                       5.18192   \n",
       "4  Afghanistan  1983.0                122.706                       4.95718   \n",
       "\n",
       "                       Unnamed: 4                      Unnamed: 5  \\\n",
       "0  Lower 95% uncertainty interval  Upper 95% uncertainty interval   \n",
       "1                         110.607                          133.52   \n",
       "2                         111.393                         133.135   \n",
       "3                         112.132                         132.857   \n",
       "4                         112.872                         132.638   \n",
       "\n",
       "                    Male                    Unnamed: 7  \\\n",
       "0  Age-standardized mean  Posterior standard deviation   \n",
       "1                125.199                       5.56107   \n",
       "2                125.216                       5.17833   \n",
       "3                125.249                       4.84846   \n",
       "4                125.309                        4.5781   \n",
       "\n",
       "                       Unnamed: 8                      Unnamed: 9  \n",
       "0  Lower 95% uncertainty interval  Upper 95% uncertainty interval  \n",
       "1                         114.289                         136.468  \n",
       "2                         115.225                         135.713  \n",
       "3                         115.819                         134.997  \n",
       "4                         116.498                         134.653  "
      ]
     },
     "execution_count": 6,
     "metadata": {},
     "output_type": "execute_result"
    }
   ],
   "source": [
    "data.head()"
   ]
  },
  {
   "cell_type": "code",
   "execution_count": null,
   "metadata": {
    "collapsed": true
   },
   "outputs": [],
   "source": []
  },
  {
   "cell_type": "code",
   "execution_count": 7,
   "metadata": {
    "collapsed": true
   },
   "outputs": [],
   "source": [
    "data = data[['Country', 'Year', 'Female', 'Male']].drop(0)"
   ]
  },
  {
   "cell_type": "code",
   "execution_count": 8,
   "metadata": {
    "collapsed": false
   },
   "outputs": [
    {
     "data": {
      "text/html": [
       "<div>\n",
       "<table border=\"1\" class=\"dataframe\">\n",
       "  <thead>\n",
       "    <tr style=\"text-align: right;\">\n",
       "      <th></th>\n",
       "      <th>Country</th>\n",
       "      <th>Year</th>\n",
       "      <th>Female</th>\n",
       "      <th>Male</th>\n",
       "    </tr>\n",
       "  </thead>\n",
       "  <tbody>\n",
       "    <tr>\n",
       "      <th>1</th>\n",
       "      <td>Afghanistan</td>\n",
       "      <td>1980.0</td>\n",
       "      <td>122.08</td>\n",
       "      <td>125.199</td>\n",
       "    </tr>\n",
       "    <tr>\n",
       "      <th>2</th>\n",
       "      <td>Afghanistan</td>\n",
       "      <td>1981.0</td>\n",
       "      <td>122.268</td>\n",
       "      <td>125.216</td>\n",
       "    </tr>\n",
       "    <tr>\n",
       "      <th>3</th>\n",
       "      <td>Afghanistan</td>\n",
       "      <td>1982.0</td>\n",
       "      <td>122.487</td>\n",
       "      <td>125.249</td>\n",
       "    </tr>\n",
       "    <tr>\n",
       "      <th>4</th>\n",
       "      <td>Afghanistan</td>\n",
       "      <td>1983.0</td>\n",
       "      <td>122.706</td>\n",
       "      <td>125.309</td>\n",
       "    </tr>\n",
       "    <tr>\n",
       "      <th>5</th>\n",
       "      <td>Afghanistan</td>\n",
       "      <td>1984.0</td>\n",
       "      <td>122.909</td>\n",
       "      <td>125.344</td>\n",
       "    </tr>\n",
       "  </tbody>\n",
       "</table>\n",
       "</div>"
      ],
      "text/plain": [
       "       Country    Year   Female     Male\n",
       "1  Afghanistan  1980.0   122.08  125.199\n",
       "2  Afghanistan  1981.0  122.268  125.216\n",
       "3  Afghanistan  1982.0  122.487  125.249\n",
       "4  Afghanistan  1983.0  122.706  125.309\n",
       "5  Afghanistan  1984.0  122.909  125.344"
      ]
     },
     "execution_count": 8,
     "metadata": {},
     "output_type": "execute_result"
    }
   ],
   "source": [
    "data.head()"
   ]
  },
  {
   "cell_type": "code",
   "execution_count": null,
   "metadata": {
    "collapsed": true
   },
   "outputs": [],
   "source": []
  },
  {
   "cell_type": "code",
   "execution_count": null,
   "metadata": {
    "collapsed": true
   },
   "outputs": [],
   "source": []
  },
  {
   "cell_type": "code",
   "execution_count": 21,
   "metadata": {
    "collapsed": true
   },
   "outputs": [],
   "source": [
    "# get all data\n",
    "\n",
    "all_data = {}\n",
    "\n",
    "for i in xls.sheet_names():\n",
    "    df = pd.read_excel(source, sheetname=i)\n",
    "    df = df[['Country', 'Year', 'Female', 'Male']].drop(0)\n",
    "    \n",
    "    all_data[i] = df"
   ]
  },
  {
   "cell_type": "code",
   "execution_count": null,
   "metadata": {
    "collapsed": true
   },
   "outputs": [],
   "source": []
  },
  {
   "cell_type": "code",
   "execution_count": null,
   "metadata": {
    "collapsed": true
   },
   "outputs": [],
   "source": []
  },
  {
   "cell_type": "code",
   "execution_count": 9,
   "metadata": {
    "collapsed": true
   },
   "outputs": [],
   "source": [
    "# country"
   ]
  },
  {
   "cell_type": "code",
   "execution_count": 11,
   "metadata": {
    "collapsed": true
   },
   "outputs": [],
   "source": [
    "country = data[['Country']].drop_duplicates().copy()"
   ]
  },
  {
   "cell_type": "code",
   "execution_count": 13,
   "metadata": {
    "collapsed": false
   },
   "outputs": [],
   "source": [
    "country['country'] = country['Country'].map(to_concept_id)"
   ]
  },
  {
   "cell_type": "code",
   "execution_count": 14,
   "metadata": {
    "collapsed": true
   },
   "outputs": [],
   "source": [
    "country.columns = ['name', 'country']"
   ]
  },
  {
   "cell_type": "code",
   "execution_count": 16,
   "metadata": {
    "collapsed": false
   },
   "outputs": [],
   "source": [
    "country.to_csv('../ddf--entities--country.csv', index=False)"
   ]
  },
  {
   "cell_type": "code",
   "execution_count": null,
   "metadata": {
    "collapsed": true
   },
   "outputs": [],
   "source": []
  },
  {
   "cell_type": "code",
   "execution_count": 29,
   "metadata": {
    "collapsed": true
   },
   "outputs": [],
   "source": [
    "# sex\n",
    "\n",
    "sex = pd.DataFrame([['male', 'Male'], ['female', 'Female']], columns=['sex', 'name'])"
   ]
  },
  {
   "cell_type": "code",
   "execution_count": 30,
   "metadata": {
    "collapsed": true
   },
   "outputs": [],
   "source": [
    "sex.to_csv('../ddf--entities--sex.csv', index=False)"
   ]
  },
  {
   "cell_type": "code",
   "execution_count": null,
   "metadata": {
    "collapsed": true
   },
   "outputs": [],
   "source": []
  },
  {
   "cell_type": "code",
   "execution_count": null,
   "metadata": {
    "collapsed": true
   },
   "outputs": [],
   "source": []
  },
  {
   "cell_type": "code",
   "execution_count": 17,
   "metadata": {
    "collapsed": true
   },
   "outputs": [],
   "source": [
    "# concepts"
   ]
  },
  {
   "cell_type": "code",
   "execution_count": 23,
   "metadata": {
    "collapsed": false
   },
   "outputs": [],
   "source": [
    "all_concepts = [x for x in xls.sheet_names()]\n",
    "all_concept_ids = [to_concept_id(x) for x in all_concepts]"
   ]
  },
  {
   "cell_type": "code",
   "execution_count": 32,
   "metadata": {
    "collapsed": false
   },
   "outputs": [],
   "source": [
    "concepts = pd.DataFrame([], columns=['concept', 'name', 'concept_type'])"
   ]
  },
  {
   "cell_type": "code",
   "execution_count": 33,
   "metadata": {
    "collapsed": false
   },
   "outputs": [],
   "source": [
    "concepts['concept'] = ['name', 'year', 'sex', 'country', *all_concept_ids]\n",
    "concepts['name'] = ['Name', 'Year', 'Sex', 'Country', *all_concepts]"
   ]
  },
  {
   "cell_type": "code",
   "execution_count": 34,
   "metadata": {
    "collapsed": true
   },
   "outputs": [],
   "source": [
    "concepts['concept_type'] = 'measure'"
   ]
  },
  {
   "cell_type": "code",
   "execution_count": 36,
   "metadata": {
    "collapsed": true
   },
   "outputs": [],
   "source": [
    "concepts.iloc[0]['concept_type'] = 'string'\n",
    "concepts.iloc[1]['concept_type'] = 'time'\n",
    "concepts.iloc[2]['concept_type'] = 'entity_domain'\n",
    "concepts.iloc[3]['concept_type'] = 'entity_domain'"
   ]
  },
  {
   "cell_type": "code",
   "execution_count": 38,
   "metadata": {
    "collapsed": false
   },
   "outputs": [],
   "source": [
    "concepts.to_csv('../ddf--concepts.csv', index=False)"
   ]
  },
  {
   "cell_type": "code",
   "execution_count": null,
   "metadata": {
    "collapsed": true
   },
   "outputs": [],
   "source": []
  },
  {
   "cell_type": "code",
   "execution_count": null,
   "metadata": {
    "collapsed": true
   },
   "outputs": [],
   "source": [
    "# datapoints"
   ]
  },
  {
   "cell_type": "code",
   "execution_count": 39,
   "metadata": {
    "collapsed": true
   },
   "outputs": [],
   "source": [
    "data.columns = list(map(to_concept_id, data.columns))"
   ]
  },
  {
   "cell_type": "code",
   "execution_count": 45,
   "metadata": {
    "collapsed": true
   },
   "outputs": [],
   "source": [
    "data['country'] = data['country'].map(to_concept_id)"
   ]
  },
  {
   "cell_type": "code",
   "execution_count": 46,
   "metadata": {
    "collapsed": true
   },
   "outputs": [],
   "source": [
    "data_ = data.set_index(['country', 'year'])"
   ]
  },
  {
   "cell_type": "code",
   "execution_count": 48,
   "metadata": {
    "collapsed": false,
    "scrolled": true
   },
   "outputs": [
    {
     "data": {
      "text/html": [
       "<div>\n",
       "<table border=\"1\" class=\"dataframe\">\n",
       "  <thead>\n",
       "    <tr style=\"text-align: right;\">\n",
       "      <th></th>\n",
       "      <th>country</th>\n",
       "      <th>year</th>\n",
       "      <th>level_2</th>\n",
       "      <th>0</th>\n",
       "    </tr>\n",
       "  </thead>\n",
       "  <tbody>\n",
       "    <tr>\n",
       "      <th>0</th>\n",
       "      <td>afghanistan</td>\n",
       "      <td>1980.0</td>\n",
       "      <td>female</td>\n",
       "      <td>122.08</td>\n",
       "    </tr>\n",
       "    <tr>\n",
       "      <th>1</th>\n",
       "      <td>afghanistan</td>\n",
       "      <td>1980.0</td>\n",
       "      <td>male</td>\n",
       "      <td>125.199</td>\n",
       "    </tr>\n",
       "    <tr>\n",
       "      <th>2</th>\n",
       "      <td>afghanistan</td>\n",
       "      <td>1981.0</td>\n",
       "      <td>female</td>\n",
       "      <td>122.268</td>\n",
       "    </tr>\n",
       "    <tr>\n",
       "      <th>3</th>\n",
       "      <td>afghanistan</td>\n",
       "      <td>1981.0</td>\n",
       "      <td>male</td>\n",
       "      <td>125.216</td>\n",
       "    </tr>\n",
       "    <tr>\n",
       "      <th>4</th>\n",
       "      <td>afghanistan</td>\n",
       "      <td>1982.0</td>\n",
       "      <td>female</td>\n",
       "      <td>122.487</td>\n",
       "    </tr>\n",
       "  </tbody>\n",
       "</table>\n",
       "</div>"
      ],
      "text/plain": [
       "       country    year level_2        0\n",
       "0  afghanistan  1980.0  female   122.08\n",
       "1  afghanistan  1980.0    male  125.199\n",
       "2  afghanistan  1981.0  female  122.268\n",
       "3  afghanistan  1981.0    male  125.216\n",
       "4  afghanistan  1982.0  female  122.487"
      ]
     },
     "execution_count": 48,
     "metadata": {},
     "output_type": "execute_result"
    }
   ],
   "source": [
    "data_.stack().reset_index().head()"
   ]
  },
  {
   "cell_type": "code",
   "execution_count": null,
   "metadata": {
    "collapsed": true
   },
   "outputs": [],
   "source": []
  },
  {
   "cell_type": "code",
   "execution_count": null,
   "metadata": {
    "collapsed": true
   },
   "outputs": [],
   "source": [
    "for k, df in all_data.items():\n",
    "    df.columns = list(map(to_concept_id, df.columns))\n",
    "    df['country'] = df['country'].map(to_concept_id)\n",
    "    \n",
    "    df = df.set_index(['country', 'year'])\n",
    "    \n",
    "    df = data_.stack().reset_index()\n",
    "    \n",
    "    df.columns = ['country', 'year', 'sex', k]\n",
    "    \n",
    "    path = '../ddf--datapoints--{}--by--country--sex--year.csv'.format(k)\n",
    "    df.to_csv(path, index=False)"
   ]
  },
  {
   "cell_type": "code",
   "execution_count": null,
   "metadata": {
    "collapsed": true
   },
   "outputs": [],
   "source": []
  },
  {
   "cell_type": "code",
   "execution_count": null,
   "metadata": {
    "collapsed": true
   },
   "outputs": [],
   "source": []
  },
  {
   "cell_type": "code",
   "execution_count": null,
   "metadata": {
    "collapsed": true
   },
   "outputs": [],
   "source": []
  },
  {
   "cell_type": "code",
   "execution_count": null,
   "metadata": {
    "collapsed": true
   },
   "outputs": [],
   "source": []
  }
 ],
 "metadata": {
  "kernelspec": {
   "display_name": "Python 3",
   "language": "python",
   "name": "python3"
  },
  "language_info": {
   "codemirror_mode": {
    "name": "ipython",
    "version": 3
   },
   "file_extension": ".py",
   "mimetype": "text/x-python",
   "name": "python",
   "nbconvert_exporter": "python",
   "pygments_lexer": "ipython3",
   "version": "3.5.1"
  }
 },
 "nbformat": 4,
 "nbformat_minor": 0
}
